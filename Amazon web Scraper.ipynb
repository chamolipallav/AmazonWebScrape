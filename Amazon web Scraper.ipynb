{
 "cells": [
  {
   "cell_type": "code",
   "execution_count": 60,
   "id": "4e0ee6cc",
   "metadata": {},
   "outputs": [],
   "source": [
    "#import libraries\n",
    "\n",
    "from bs4 import BeautifulSoup\n",
    "import requests\n",
    "import time\n",
    "import datetime\n",
    "\n",
    "import smtplib\n"
   ]
  },
  {
   "cell_type": "code",
   "execution_count": 61,
   "id": "55f000c2",
   "metadata": {},
   "outputs": [
    {
     "name": "stdout",
     "output_type": "stream",
     "text": [
      "\n",
      "                        $24.99\n",
      "                       \n",
      "\n",
      "            Chicago Fire: Season 9 [6 Disc] (DVD)\n",
      "           \n"
     ]
    }
   ],
   "source": [
    "# connect the website to the code\n",
    "\n",
    "URL = 'https://www.amazon.com.au/Chicago-Fire-Season-Disc-DVD/dp/B095GJ5QGN/ref=zg-bs_movies-and-tv_sccl_1/357-6529753-6057744?pd_rd_w=HI0T9&content-id=amzn1.sym.cf40b4ab-6758-4067-925a-fd988196e92c&pf_rd_p=cf40b4ab-6758-4067-925a-fd988196e92c&pf_rd_r=FMQCTCW31NSAZPC8GCY0&pd_rd_wg=7I26W&pd_rd_r=cda4c309-2ba0-4f2e-b527-418a6b565ef3&pd_rd_i=B095GJ5QGN&psc=1'\n",
    "\n",
    "headers = {\"User-Agent\": \"Mozilla/5.0 (Macintosh; Intel Mac OS X 10_15_7) AppleWebKit/537.36 (KHTML, like Gecko) Chrome/105.0.0.0 Safari/537.36\", \n",
    "    \"X-Amzn-Trace-Id\": \"Root=1-6327d8bb-4b4af6d10c27ecb77c259001\"}\n",
    "\n",
    "page = requests.get(URL, headers=headers)\n",
    "\n",
    "Soup1 = BeautifulSoup(page.content, \"html.parser\")\n",
    "\n",
    "Soup2 = BeautifulSoup(Soup1.prettify(), \"html.parser\")\n",
    "\n",
    "title = Soup2.find(id='productTitle').get_text()\n",
    "\n",
    "#price = Soup2.find(id='priceblock_ourprice').get_text() # not working anymore.\n",
    "\n",
    "price = Soup2.find('span', 'a-offscreen').get_text()\n",
    "\n",
    "\n",
    "\n",
    "print(price)\n",
    "print(title)\n"
   ]
  },
  {
   "cell_type": "code",
   "execution_count": 62,
   "id": "21cb07f5",
   "metadata": {},
   "outputs": [
    {
     "name": "stdout",
     "output_type": "stream",
     "text": [
      "Chicago Fire: Season 9 [6 Disc] (DVD)\n",
      "24.99\n"
     ]
    }
   ],
   "source": [
    "price = price.strip()[1:]\n",
    "title = title.strip()\n",
    "\n",
    "print(title)\n",
    "print(price)"
   ]
  },
  {
   "cell_type": "code",
   "execution_count": 63,
   "id": "77d17874",
   "metadata": {},
   "outputs": [
    {
     "name": "stdout",
     "output_type": "stream",
     "text": [
      "2022-09-19\n"
     ]
    }
   ],
   "source": [
    "today = datetime.date.today()\n",
    "print(today)"
   ]
  },
  {
   "cell_type": "code",
   "execution_count": 68,
   "id": "99eb98b3",
   "metadata": {},
   "outputs": [],
   "source": [
    "import csv\n",
    "\n",
    "header = ['Title', 'Price', 'Date']\n",
    "data = [title, price, today]\n",
    "\n",
    "#type(data)\n",
    "\n",
    "with open('AmazonWebScrape.csv', 'w', newline='', encoding='UTF8') as f:\n",
    "    writer = csv.writer(f)\n",
    "    writer.writerow(data)"
   ]
  },
  {
   "cell_type": "code",
   "execution_count": 71,
   "id": "08d42afe",
   "metadata": {},
   "outputs": [],
   "source": [
    "with open('AmazonWebScrape.csv', 'a+', newline='', encoding='UTF8') as f:\n",
    "    writer = csv.writer(f)\n",
    "    writer.writerow(data)"
   ]
  },
  {
   "cell_type": "code",
   "execution_count": 72,
   "id": "5d396ce1",
   "metadata": {},
   "outputs": [
    {
     "name": "stdout",
     "output_type": "stream",
     "text": [
      "   Chicago Fire: Season 9 [6 Disc] (DVD)  24.99  2022-09-19\n",
      "0  Chicago Fire: Season 9 [6 Disc] (DVD)  24.99  2022-09-19\n",
      "1  Chicago Fire: Season 9 [6 Disc] (DVD)  24.99  2022-09-19\n",
      "2  Chicago Fire: Season 9 [6 Disc] (DVD)  24.99  2022-09-19\n"
     ]
    }
   ],
   "source": [
    "import pandas as pd\n",
    "df = pd.read_csv('AmazonWebScrape.csv')\n",
    "print(df)"
   ]
  },
  {
   "cell_type": "code",
   "execution_count": 73,
   "id": "294e5037",
   "metadata": {},
   "outputs": [],
   "source": [
    "def check_price():\n",
    "    URL = 'https://www.amazon.com.au/Chicago-Fire-Season-Disc-DVD/dp/B095GJ5QGN/ref=zg-bs_movies-and-tv_sccl_1/357-6529753-6057744?pd_rd_w=HI0T9&content-id=amzn1.sym.cf40b4ab-6758-4067-925a-fd988196e92c&pf_rd_p=cf40b4ab-6758-4067-925a-fd988196e92c&pf_rd_r=FMQCTCW31NSAZPC8GCY0&pd_rd_wg=7I26W&pd_rd_r=cda4c309-2ba0-4f2e-b527-418a6b565ef3&pd_rd_i=B095GJ5QGN&psc=1'\n",
    "\n",
    "    headers = {\"User-Agent\": \"Mozilla/5.0 (Macintosh; Intel Mac OS X 10_15_7) AppleWebKit/537.36 (KHTML, like Gecko) Chrome/105.0.0.0 Safari/537.36\", \n",
    "    \"X-Amzn-Trace-Id\": \"Root=1-6327d8bb-4b4af6d10c27ecb77c259001\"}\n",
    "\n",
    "    page = requests.get(URL, headers=headers)\n",
    "\n",
    "    Soup1 = BeautifulSoup(page.content, \"html.parser\")\n",
    "\n",
    "    Soup2 = BeautifulSoup(Soup1.prettify(), \"html.parser\")\n",
    "\n",
    "    title = Soup2.find(id='productTitle').get_text()\n",
    "\n",
    "    #price = Soup2.find(id='priceblock_ourprice').get_text() # not working anymore.\n",
    "\n",
    "    price = Soup2.find('span', 'a-offscreen').get_text()\n",
    "    \n",
    "    price = price.strip()[1:]\n",
    "    title = title.strip()\n",
    "    \n",
    "    today = datetime.date.today()\n",
    "    \n",
    "    header = ['Title', 'Price', 'Date']\n",
    "    data = [title, price, today]\n",
    "\n",
    "    with open('AmazonWebScrape.csv', 'w', newline='', encoding='UTF8') as f:\n",
    "        writer = csv.writer(f)\n",
    "        writer.writerow(data)"
   ]
  },
  {
   "cell_type": "code",
   "execution_count": 74,
   "id": "d7589ef3",
   "metadata": {},
   "outputs": [
    {
     "ename": "KeyboardInterrupt",
     "evalue": "",
     "output_type": "error",
     "traceback": [
      "\u001b[0;31m---------------------------------------------------------------------------\u001b[0m",
      "\u001b[0;31mKeyboardInterrupt\u001b[0m                         Traceback (most recent call last)",
      "Input \u001b[0;32mIn [74]\u001b[0m, in \u001b[0;36m<cell line: 2>\u001b[0;34m()\u001b[0m\n\u001b[1;32m      1\u001b[0m \u001b[38;5;28;01mwhile\u001b[39;00m(\u001b[38;5;28;01mTrue\u001b[39;00m):\n\u001b[1;32m      2\u001b[0m     check_price()\n\u001b[0;32m----> 3\u001b[0m     \u001b[43mtime\u001b[49m\u001b[38;5;241;43m.\u001b[39;49m\u001b[43msleep\u001b[49m\u001b[43m(\u001b[49m\u001b[38;5;241;43m5\u001b[39;49m\u001b[43m)\u001b[49m\n",
      "\u001b[0;31mKeyboardInterrupt\u001b[0m: "
     ]
    }
   ],
   "source": [
    "while(True):\n",
    "    check_price()\n",
    "    time.sleep(5)"
   ]
  },
  {
   "cell_type": "code",
   "execution_count": 75,
   "id": "9952a242",
   "metadata": {},
   "outputs": [
    {
     "name": "stdout",
     "output_type": "stream",
     "text": [
      "Empty DataFrame\n",
      "Columns: [Chicago Fire: Season 9 [6 Disc] (DVD), 24.99, 2022-09-19]\n",
      "Index: []\n"
     ]
    }
   ],
   "source": [
    "import pandas as pd\n",
    "df = pd.read_csv('AmazonWebScrape.csv')\n",
    "print(df) "
   ]
  },
  {
   "cell_type": "code",
   "execution_count": null,
   "id": "06648737",
   "metadata": {},
   "outputs": [],
   "source": [
    "def send_mail():\n",
    "    server = smtplib.SMTP_SSL('smtp.gmail.com',465)\n",
    "    server.ehlo()\n",
    "    server.ehlo()\n",
    "    server.login('junkmailfromsite@gmail.com','xxxxxxxxxxxxxx') # email and password\n",
    "    \n",
    "    subject =\"The shirt you want is below %20! buy it\"\n",
    "    body = \"Pallav, this is the moment to buy this\"\n",
    "    \n",
    "    msg = f\"subject: {subject}\\n\\n{body}\"\n",
    "    \n",
    "    server.sendmail('junkmailfromsite@gmail.com', msg)\n",
    "    \n",
    "    "
   ]
  }
 ],
 "metadata": {
  "kernelspec": {
   "display_name": "Python 3 (ipykernel)",
   "language": "python",
   "name": "python3"
  },
  "language_info": {
   "codemirror_mode": {
    "name": "ipython",
    "version": 3
   },
   "file_extension": ".py",
   "mimetype": "text/x-python",
   "name": "python",
   "nbconvert_exporter": "python",
   "pygments_lexer": "ipython3",
   "version": "3.9.12"
  }
 },
 "nbformat": 4,
 "nbformat_minor": 5
}
